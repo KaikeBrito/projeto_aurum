{
 "cells": [
  {
   "cell_type": "code",
   "execution_count": 2,
   "id": "3c2c1e42-8b46-4a98-8759-eefc880665cc",
   "metadata": {},
   "outputs": [
    {
     "name": "stdout",
     "output_type": "stream",
     "text": [
      "--- Validação do Ambiente Aurum ---\n",
      "Pandas: 2.3.1\n",
      "NumPy: 2.1.3\n",
      "yfinance: 0.2.66\n",
      "Backtrader: 1.9.78.123\n",
      "vectorbt: 0.28.1\n",
      "fundamentus: OK\n",
      "Scikit-learn: 1.6.1\n",
      "XGBoost: 3.0.3\n",
      "\n",
      "✅ Ambiente configurado com sucesso!\n"
     ]
    }
   ],
   "source": [
    "# validate_environment.ipynb\n",
    "import pandas as pd\n",
    "import numpy as np\n",
    "import yfinance as yf\n",
    "import backtrader as bt\n",
    "import vectorbt as vbt\n",
    "import fundamentus\n",
    "import sklearn\n",
    "import xgboost as xgb\n",
    "\n",
    "print(\"--- Validação do Ambiente Aurum ---\")\n",
    "print(f\"Pandas: {pd.__version__}\")\n",
    "print(f\"NumPy: {np.__version__}\")\n",
    "print(f\"yfinance: {yf.__version__}\")\n",
    "print(f\"Backtrader: {bt.__version__}\")\n",
    "print(f\"vectorbt: {vbt.__version__}\")\n",
    "print(f\"fundamentus: OK\")\n",
    "print(f\"Scikit-learn: {sklearn.__version__}\")\n",
    "print(f\"XGBoost: {xgb.__version__}\")\n",
    "print(\"\\n✅ Ambiente configurado com sucesso!\")"
   ]
  }
 ],
 "metadata": {
  "kernelspec": {
   "display_name": "Python 3 (ipykernel)",
   "language": "python",
   "name": "python3"
  },
  "language_info": {
   "codemirror_mode": {
    "name": "ipython",
    "version": 3
   },
   "file_extension": ".py",
   "mimetype": "text/x-python",
   "name": "python",
   "nbconvert_exporter": "python",
   "pygments_lexer": "ipython3",
   "version": "3.11.4"
  }
 },
 "nbformat": 4,
 "nbformat_minor": 5
}
